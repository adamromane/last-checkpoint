{
 "cells": [
  {
   "cell_type": "code",
   "execution_count": 1,
   "id": "a85ab7bf-04bd-428d-92bd-80003aae1b1c",
   "metadata": {},
   "outputs": [
    {
     "name": "stdout",
     "output_type": "stream",
     "text": [
      "Seconds since epoch = 1634998106.316454\n"
     ]
    }
   ],
   "source": [
    "import time\n",
    "  \n",
    "def countdown(t):\n",
    "    \n",
    "    while t:\n",
    "        mins, secs = divmod(t, 60)\n",
    "        timer = '{:02d}:{:02d}'.format(mins, secs)\n",
    "        print(timer, end=\"\\r\")\n",
    "        time.sleep(1)\n",
    "        t -= 1\n",
    "      \n",
    "    print('Fire in the hole!!')\n",
    "  \n",
    "  \n",
    "t = input(\"Enter the time in seconds: \")\n",
    "  \n",
    "countdown(int(t))"
   ]
  },
  {
   "cell_type": "code",
   "execution_count": null,
   "id": "d77dce1d-4f02-4d0b-ae5e-37fc83bc4537",
   "metadata": {},
   "outputs": [],
   "source": []
  }
 ],
 "metadata": {
  "kernelspec": {
   "display_name": "Python 3",
   "language": "python",
   "name": "python3"
  },
  "language_info": {
   "codemirror_mode": {
    "name": "ipython",
    "version": 3
   },
   "file_extension": ".py",
   "mimetype": "text/x-python",
   "name": "python",
   "nbconvert_exporter": "python",
   "pygments_lexer": "ipython3",
   "version": "3.8.8"
  }
 },
 "nbformat": 4,
 "nbformat_minor": 5
}
